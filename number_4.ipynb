{
  "nbformat": 4,
  "nbformat_minor": 0,
  "metadata": {
    "colab": {
      "name": "number 4.ipynb",
      "provenance": []
    },
    "kernelspec": {
      "name": "python3",
      "display_name": "Python 3"
    }
  },
  "cells": [
    {
      "cell_type": "code",
      "metadata": {
        "id": "OV-LDRJbwXOE",
        "colab_type": "code",
        "colab": {
          "base_uri": "https://localhost:8080/",
          "height": 34
        },
        "outputId": "45eedac3-3172-4d94-ef9a-fce0c164f6b6"
      },
      "source": [
        "pwd\n"
      ],
      "execution_count": 1,
      "outputs": [
        {
          "output_type": "execute_result",
          "data": {
            "text/plain": [
              "'/content'"
            ]
          },
          "metadata": {
            "tags": []
          },
          "execution_count": 1
        }
      ]
    },
    {
      "cell_type": "code",
      "metadata": {
        "id": "1W6vWtnh3MMR",
        "colab_type": "code",
        "colab": {
          "base_uri": "https://localhost:8080/",
          "height": 129
        },
        "outputId": "58e4def5-8b99-46fe-a428-84c0ece38f71"
      },
      "source": [
        "#task1\n",
        "import string\n",
        "myfile=open('filetobe.txt')\n",
        "mybook=[]\n",
        "for line in myfile:\n",
        "  line=line.split()\n",
        "    word1=line.strip(string.punctuation)\n",
        "    word2=word1.lower()\n",
        "    mybook=mybook.append(word2)\n",
        "print(mybook)"
      ],
      "execution_count": 3,
      "outputs": [
        {
          "output_type": "error",
          "ename": "IndentationError",
          "evalue": "ignored",
          "traceback": [
            "\u001b[0;36m  File \u001b[0;32m\"<ipython-input-3-bc90413e82b2>\"\u001b[0;36m, line \u001b[0;32m7\u001b[0m\n\u001b[0;31m    word1=line.strip(string.punctuation)\u001b[0m\n\u001b[0m    ^\u001b[0m\n\u001b[0;31mIndentationError\u001b[0m\u001b[0;31m:\u001b[0m unexpected indent\n"
          ]
        }
      ]
    },
    {
      "cell_type": "code",
      "metadata": {
        "id": "vakEELBwGu3t",
        "colab_type": "code",
        "colab": {}
      },
      "source": [
        "#task4\n",
        "import os\n",
        "def walk(file):\n",
        "  for i in os.listdir(file):\n",
        "    route=os.path.join file, i\n",
        "    while os.route.isfile(route):\n",
        "      print(route)\n",
        "    \n",
        "walk(myfile)"
      ],
      "execution_count": 0,
      "outputs": []
    }
  ]
}